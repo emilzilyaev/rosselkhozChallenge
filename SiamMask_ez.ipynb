{
  "nbformat": 4,
  "nbformat_minor": 0,
  "metadata": {
    "colab": {
      "name": "SiamMask-ez.ipynb",
      "provenance": [],
      "collapsed_sections": [],
      "include_colab_link": true
    },
    "kernelspec": {
      "name": "python3",
      "display_name": "Python 3"
    },
    "accelerator": "GPU"
  },
  "cells": [
    {
      "cell_type": "markdown",
      "metadata": {
        "id": "view-in-github",
        "colab_type": "text"
      },
      "source": [
        "<a href=\"https://colab.research.google.com/github/emilziyaev/rosselkhozChallenge/blob/main/SiamMask_ez.ipynb\" target=\"_parent\"><img src=\"https://colab.research.google.com/assets/colab-badge.svg\" alt=\"Open In Colab\"/></a>"
      ]
    },
    {
      "cell_type": "markdown",
      "metadata": {
        "id": "RMwyS4lVRl62"
      },
      "source": [
        "# Новый раздел"
      ]
    },
    {
      "cell_type": "code",
      "metadata": {
        "id": "LaiA962aRk9v"
      },
      "source": [
        "%%capture\n",
        "!pip install PyDrive\n",
        "from pydrive.auth import GoogleAuth\n",
        "from pydrive.drive import GoogleDrive\n",
        "from google.colab import auth\n",
        "from oauth2client.client import GoogleCredentials"
      ],
      "execution_count": null,
      "outputs": []
    },
    {
      "cell_type": "code",
      "metadata": {
        "id": "5x6hXSVdRm3i"
      },
      "source": [
        "auth.authenticate_user()\n",
        "gauth = GoogleAuth()\n",
        "gauth.credentials = GoogleCredentials.get_application_default()\n",
        "drive = GoogleDrive(gauth)"
      ],
      "execution_count": null,
      "outputs": []
    },
    {
      "cell_type": "code",
      "metadata": {
        "id": "6MXjIsiERpLe"
      },
      "source": [
        "search_id = \"1OejSwght_F4tKbaLjgmB1srBnIJDNuU-\"\n",
        "search = drive.CreateFile({'id': search_id})\n",
        "search.GetContentFile('train.zip')"
      ],
      "execution_count": null,
      "outputs": []
    },
    {
      "cell_type": "code",
      "metadata": {
        "colab": {
          "base_uri": "https://localhost:8080/"
        },
        "id": "ukN-VsuuRyvZ",
        "outputId": "61f5b5f5-6c1d-4245-9c45-55360ff80a38"
      },
      "source": [
        "!unzip ./train.zip\n",
        "!rm -r ./train.zip"
      ],
      "execution_count": null,
      "outputs": [
        {
          "output_type": "stream",
          "name": "stdout",
          "text": [
            "Archive:  ./train.zip\n",
            "   creating: train/\n",
            "  inflating: train/Movie_5.mkv       \n",
            "  inflating: train/Movie_7.mkv       \n",
            "  inflating: train/Movie_6.mkv       \n",
            "  inflating: train/Movie_10.mkv      \n",
            "  inflating: train/Movie_1.mkv       \n",
            "  inflating: train/Movie_3.mkv       \n",
            "  inflating: train/Movie_2.mkv       \n",
            "  inflating: train/Movie_4.mkv       \n",
            "  inflating: train/Movie_8.mkv       \n",
            "  inflating: train/Movie_9.mkv       \n"
          ]
        }
      ]
    },
    {
      "cell_type": "markdown",
      "metadata": {
        "id": "ZMUdgWmTFWEs"
      },
      "source": [
        "# Track/Segment Person with SiamMask\n",
        "\n",
        "This notebook uses an open source project [SiamMask](https://github.com/foolwood/SiamMask) to track and to segment a single person on a given youtube video.\n",
        "\n",
        "For other deep-learning Colab notebooks, visit [tugstugi/dl-colab-notebooks](https://github.com/tugstugi/dl-colab-notebooks).\n",
        "\n",
        "\n",
        "## Install SiamMask"
      ]
    },
    {
      "cell_type": "code",
      "metadata": {
        "id": "JQVH0gE47FE9",
        "colab": {
          "base_uri": "https://localhost:8080/"
        },
        "outputId": "c4cc155e-ede4-4404-b539-1bf0635c637d"
      },
      "source": [
        "import os\n",
        "from os.path import exists, join, basename, splitext\n",
        "\n",
        "git_repo_url = 'https://github.com/foolwood/SiamMask.git'\n",
        "project_name = splitext(basename(git_repo_url))[0]\n",
        "if not exists(project_name):\n",
        "  # clone and install dependencies\n",
        "  !git clone -q --depth 1 {git_repo_url}\n",
        "  !sed -i \"/torch/d\" {project_name}/requirements.txt\n",
        "  !cd {project_name} && pip install -q -r requirements.txt\n",
        "  !cd {project_name} && bash make.sh\n",
        "  !pip install -q youtube-dl\n",
        "  \n",
        "import sys\n",
        "sys.path.append(project_name)\n",
        "sys.path.append(join(project_name, 'experiments', 'siammask_sharp'))\n",
        "import time\n",
        "import matplotlib\n",
        "import matplotlib.pyplot as plt\n",
        "plt.rcParams[\"axes.grid\"] = False\n",
        "\n",
        "from IPython.display import YouTubeVideo\n",
        "\n",
        "import cv2\n",
        "import torchvision\n",
        "import cv2\n",
        "import numpy as np\n",
        "import torch\n",
        "torch.set_grad_enabled(False)\n",
        "\n",
        "from types import SimpleNamespace\n",
        "from custom import Custom\n",
        "from tools.test import *"
      ],
      "execution_count": null,
      "outputs": [
        {
          "output_type": "stream",
          "name": "stdout",
          "text": [
            "\u001b[K     |████████████████████████████████| 2.1 MB 5.2 MB/s \n",
            "\u001b[K     |████████████████████████████████| 13.8 MB 46.5 MB/s \n",
            "\u001b[K     |████████████████████████████████| 57 kB 6.9 MB/s \n",
            "\u001b[K     |████████████████████████████████| 12.6 MB 25.9 MB/s \n",
            "\u001b[K     |████████████████████████████████| 1.9 MB 51.7 MB/s \n",
            "\u001b[K     |████████████████████████████████| 31.2 MB 118 kB/s \n",
            "\u001b[K     |████████████████████████████████| 2.8 MB 57.5 MB/s \n",
            "\u001b[K     |████████████████████████████████| 8.8 MB 45.0 MB/s \n",
            "\u001b[K     |████████████████████████████████| 46 kB 136 kB/s \n",
            "\u001b[K     |████████████████████████████████| 129 kB 68.2 MB/s \n",
            "\u001b[K     |████████████████████████████████| 25.0 MB 59.3 MB/s \n",
            "\u001b[K     |████████████████████████████████| 58 kB 6.6 MB/s \n",
            "\u001b[?25h  Building wheel for fire (setup.py) ... \u001b[?25l\u001b[?25hdone\n",
            "\u001b[31mERROR: pip's dependency resolver does not currently take into account all the packages that are installed. This behaviour is the source of the following dependency conflicts.\n",
            "yellowbrick 1.3.post1 requires numpy<1.20,>=1.16.0, but you have numpy 1.15.4 which is incompatible.\n",
            "xarray 0.18.2 requires numpy>=1.17, but you have numpy 1.15.4 which is incompatible.\n",
            "xarray 0.18.2 requires pandas>=1.0, but you have pandas 0.23.4 which is incompatible.\n",
            "tensorflow 2.7.0 requires h5py>=2.9.0, but you have h5py 2.8.0 which is incompatible.\n",
            "spacy 2.2.4 requires tqdm<5.0.0,>=4.38.0, but you have tqdm 4.29.1 which is incompatible.\n",
            "scikit-image 0.18.3 requires numpy>=1.16.5, but you have numpy 1.15.4 which is incompatible.\n",
            "pywavelets 1.2.0 requires numpy>=1.17.3, but you have numpy 1.15.4 which is incompatible.\n",
            "pymc3 3.11.4 requires pandas>=0.24.0, but you have pandas 0.23.4 which is incompatible.\n",
            "pymc3 3.11.4 requires scipy>=1.2.0, but you have scipy 1.1.0 which is incompatible.\n",
            "pyerfa 2.0.0.1 requires numpy>=1.17, but you have numpy 1.15.4 which is incompatible.\n",
            "pyarrow 3.0.0 requires numpy>=1.16.6, but you have numpy 1.15.4 which is incompatible.\n",
            "plotnine 0.6.0 requires matplotlib>=3.1.1, but you have matplotlib 2.2.3 which is incompatible.\n",
            "plotnine 0.6.0 requires numpy>=1.16.0, but you have numpy 1.15.4 which is incompatible.\n",
            "plotnine 0.6.0 requires pandas>=0.25.0, but you have pandas 0.23.4 which is incompatible.\n",
            "plotnine 0.6.0 requires scipy>=1.2.0, but you have scipy 1.1.0 which is incompatible.\n",
            "panel 0.12.1 requires tqdm>=4.48.0, but you have tqdm 4.29.1 which is incompatible.\n",
            "mizani 0.6.0 requires matplotlib>=3.1.1, but you have matplotlib 2.2.3 which is incompatible.\n",
            "mizani 0.6.0 requires pandas>=0.25.0, but you have pandas 0.23.4 which is incompatible.\n",
            "librosa 0.8.1 requires numba>=0.43.0, but you have numba 0.39.0 which is incompatible.\n",
            "kapre 0.3.6 requires numpy>=1.18.5, but you have numpy 1.15.4 which is incompatible.\n",
            "jaxlib 0.1.71+cuda111 requires numpy>=1.18, but you have numpy 1.15.4 which is incompatible.\n",
            "jax 0.2.21 requires numpy>=1.18, but you have numpy 1.15.4 which is incompatible.\n",
            "jax 0.2.21 requires scipy>=1.2.1, but you have scipy 1.1.0 which is incompatible.\n",
            "google-colab 1.0.0 requires pandas~=1.1.0; python_version >= \"3.0\", but you have pandas 0.23.4 which is incompatible.\n",
            "google-colab 1.0.0 requires requests~=2.23.0, but you have requests 2.21.0 which is incompatible.\n",
            "fbprophet 0.7.1 requires pandas>=1.0.4, but you have pandas 0.23.4 which is incompatible.\n",
            "fbprophet 0.7.1 requires tqdm>=4.36.1, but you have tqdm 4.29.1 which is incompatible.\n",
            "datascience 0.10.6 requires folium==0.2.1, but you have folium 0.8.3 which is incompatible.\n",
            "cupy-cuda111 9.4.0 requires numpy<1.24,>=1.17, but you have numpy 1.15.4 which is incompatible.\n",
            "astropy 4.3.1 requires numpy>=1.17, but you have numpy 1.15.4 which is incompatible.\n",
            "arviz 0.11.4 requires matplotlib>=3.0, but you have matplotlib 2.2.3 which is incompatible.\n",
            "albumentations 0.1.12 requires imgaug<0.2.7,>=0.2.5, but you have imgaug 0.2.9 which is incompatible.\u001b[0m\n",
            "Compiling region.pyx because it depends on /usr/local/lib/python3.7/dist-packages/Cython/Includes/libc/string.pxd.\n",
            "[1/1] Cythonizing region.pyx\n",
            "/usr/local/lib/python3.7/dist-packages/Cython/Compiler/Main.py:367: FutureWarning: Cython directive 'language_level' not set, using 2 for now (Py2). This will change in a later release! File: /content/SiamMask/utils/pyvotkit/region.pyx\n",
            "  tree = Parsing.p_module(s, pxd, full_module_name)\n",
            "running build_ext\n",
            "building 'region' extension\n",
            "creating build\n",
            "creating build/temp.linux-x86_64-3.7\n",
            "creating build/temp.linux-x86_64-3.7/src\n",
            "x86_64-linux-gnu-gcc -pthread -Wno-unused-result -Wsign-compare -DNDEBUG -g -fwrapv -O2 -Wall -g -fdebug-prefix-map=/build/python3.7-Y7dWVB/python3.7-3.7.12=. -fstack-protector-strong -Wformat -Werror=format-security -g -fdebug-prefix-map=/build/python3.7-Y7dWVB/python3.7-3.7.12=. -fstack-protector-strong -Wformat -Werror=format-security -Wdate-time -D_FORTIFY_SOURCE=2 -fPIC -Isrc/ -I/usr/include/python3.7m -c region.c -o build/temp.linux-x86_64-3.7/region.o\n",
            "\u001b[01m\u001b[Kregion.c:\u001b[m\u001b[K In function ‘\u001b[01m\u001b[K__pyx_pw_6region_7Polygon_5__str__\u001b[m\u001b[K’:\n",
            "\u001b[01m\u001b[Kregion.c:4218:70:\u001b[m\u001b[K \u001b[01;35m\u001b[Kwarning: \u001b[m\u001b[K‘\u001b[01m\u001b[K__pyx_v_i\u001b[m\u001b[K’ may be used uninitialized in this function [\u001b[01;35m\u001b[K-Wmaybe-uninitialized\u001b[m\u001b[K]\n",
            "   __pyx_t_10 = PyFloat_FromDouble((__pyx_v_self->_c_region_polygon->x\u001b[01;35m\u001b[K[\u001b[m\u001b[K__pyx_v_i])); if (unlikely(!__pyx_t_10)) __PYX_ERR(0, 141, __pyx_L1_error)\n",
            "                                                                      \u001b[01;35m\u001b[K^\u001b[m\u001b[K\n",
            "\u001b[01m\u001b[Kregion.c:4087:8:\u001b[m\u001b[K \u001b[01;36m\u001b[Knote: \u001b[m\u001b[K‘\u001b[01m\u001b[K__pyx_v_i\u001b[m\u001b[K’ was declared here\n",
            "   long \u001b[01;36m\u001b[K__pyx_v_i\u001b[m\u001b[K;\n",
            "        \u001b[01;36m\u001b[K^~~~~~~~~\u001b[m\u001b[K\n",
            "x86_64-linux-gnu-gcc -pthread -Wno-unused-result -Wsign-compare -DNDEBUG -g -fwrapv -O2 -Wall -g -fdebug-prefix-map=/build/python3.7-Y7dWVB/python3.7-3.7.12=. -fstack-protector-strong -Wformat -Werror=format-security -g -fdebug-prefix-map=/build/python3.7-Y7dWVB/python3.7-3.7.12=. -fstack-protector-strong -Wformat -Werror=format-security -Wdate-time -D_FORTIFY_SOURCE=2 -fPIC -Isrc/ -I/usr/include/python3.7m -c src/region.c -o build/temp.linux-x86_64-3.7/src/region.o\n",
            "In file included from \u001b[01m\u001b[Ksrc/region.c:11:0\u001b[m\u001b[K:\n",
            "\u001b[01m\u001b[Ksrc/buffer.h:\u001b[m\u001b[K In function ‘\u001b[01m\u001b[Klist_destroy\u001b[m\u001b[K’:\n",
            "\u001b[01m\u001b[Ksrc/buffer.h:134:3:\u001b[m\u001b[K \u001b[01;35m\u001b[Kwarning: \u001b[m\u001b[Kthis ‘\u001b[01m\u001b[Kif\u001b[m\u001b[K’ clause does not guard... [\u001b[01;35m\u001b[K-Wmisleading-indentation\u001b[m\u001b[K]\n",
            "   \u001b[01;35m\u001b[Kif\u001b[m\u001b[K ((*B)->buffer[i]) free((*B)->buffer[i]); (*B)->buffer[i] = NULL;\n",
            "   \u001b[01;35m\u001b[K^~\u001b[m\u001b[K\n",
            "\u001b[01m\u001b[Ksrc/buffer.h:134:47:\u001b[m\u001b[K \u001b[01;36m\u001b[Knote: \u001b[m\u001b[K...this statement, but the latter is misleadingly indented as if it were guarded by the ‘\u001b[01m\u001b[Kif\u001b[m\u001b[K’\n",
            "   if ((*B)->buffer[i]) free((*B)->buffer[i]); \u001b[01;36m\u001b[K(\u001b[m\u001b[K*B)->buffer[i] = NULL;\n",
            "                                               \u001b[01;36m\u001b[K^\u001b[m\u001b[K\n",
            "x86_64-linux-gnu-gcc -pthread -shared -Wl,-O1 -Wl,-Bsymbolic-functions -Wl,-Bsymbolic-functions -Wl,-z,relro -Wl,-Bsymbolic-functions -Wl,-z,relro -g -fdebug-prefix-map=/build/python3.7-Y7dWVB/python3.7-3.7.12=. -fstack-protector-strong -Wformat -Werror=format-security -Wdate-time -D_FORTIFY_SOURCE=2 build/temp.linux-x86_64-3.7/region.o build/temp.linux-x86_64-3.7/src/region.o -o /content/SiamMask/utils/pyvotkit/region.cpython-37m-x86_64-linux-gnu.so\n",
            "Compiling region.pyx because it depends on /usr/local/lib/python3.7/dist-packages/Cython/Includes/libc/string.pxd.\n",
            "[1/1] Cythonizing region.pyx\n",
            "/usr/local/lib/python3.7/dist-packages/Cython/Compiler/Main.py:367: FutureWarning: Cython directive 'language_level' not set, using 2 for now (Py2). This will change in a later release! File: /content/SiamMask/utils/pysot/utils/region.pyx\n",
            "  tree = Parsing.p_module(s, pxd, full_module_name)\n",
            "running build_ext\n",
            "building 'region' extension\n",
            "creating build\n",
            "creating build/temp.linux-x86_64-3.7\n",
            "creating build/temp.linux-x86_64-3.7/src\n",
            "x86_64-linux-gnu-gcc -pthread -Wno-unused-result -Wsign-compare -DNDEBUG -g -fwrapv -O2 -Wall -g -fdebug-prefix-map=/build/python3.7-Y7dWVB/python3.7-3.7.12=. -fstack-protector-strong -Wformat -Werror=format-security -g -fdebug-prefix-map=/build/python3.7-Y7dWVB/python3.7-3.7.12=. -fstack-protector-strong -Wformat -Werror=format-security -Wdate-time -D_FORTIFY_SOURCE=2 -fPIC -Isrc/ -I. -I/usr/include/python3.7m -c region.c -o build/temp.linux-x86_64-3.7/region.o\n",
            "\u001b[01m\u001b[Kregion.c:\u001b[m\u001b[K In function ‘\u001b[01m\u001b[K__pyx_pw_6region_7Polygon_5__str__\u001b[m\u001b[K’:\n",
            "\u001b[01m\u001b[Kregion.c:4238:70:\u001b[m\u001b[K \u001b[01;35m\u001b[Kwarning: \u001b[m\u001b[K‘\u001b[01m\u001b[K__pyx_v_i\u001b[m\u001b[K’ may be used uninitialized in this function [\u001b[01;35m\u001b[K-Wmaybe-uninitialized\u001b[m\u001b[K]\n",
            "   __pyx_t_10 = PyFloat_FromDouble((__pyx_v_self->_c_region_polygon->x\u001b[01;35m\u001b[K[\u001b[m\u001b[K__pyx_v_i])); if (unlikely(!__pyx_t_10)) __PYX_ERR(0, 147, __pyx_L1_error)\n",
            "                                                                      \u001b[01;35m\u001b[K^\u001b[m\u001b[K\n",
            "\u001b[01m\u001b[Kregion.c:4107:8:\u001b[m\u001b[K \u001b[01;36m\u001b[Knote: \u001b[m\u001b[K‘\u001b[01m\u001b[K__pyx_v_i\u001b[m\u001b[K’ was declared here\n",
            "   long \u001b[01;36m\u001b[K__pyx_v_i\u001b[m\u001b[K;\n",
            "        \u001b[01;36m\u001b[K^~~~~~~~~\u001b[m\u001b[K\n",
            "x86_64-linux-gnu-gcc -pthread -Wno-unused-result -Wsign-compare -DNDEBUG -g -fwrapv -O2 -Wall -g -fdebug-prefix-map=/build/python3.7-Y7dWVB/python3.7-3.7.12=. -fstack-protector-strong -Wformat -Werror=format-security -g -fdebug-prefix-map=/build/python3.7-Y7dWVB/python3.7-3.7.12=. -fstack-protector-strong -Wformat -Werror=format-security -Wdate-time -D_FORTIFY_SOURCE=2 -fPIC -Isrc/ -I. -I/usr/include/python3.7m -c src/region.c -o build/temp.linux-x86_64-3.7/src/region.o\n",
            "In file included from \u001b[01m\u001b[Ksrc/region.c:11:0\u001b[m\u001b[K:\n",
            "\u001b[01m\u001b[Ksrc/buffer.h:\u001b[m\u001b[K In function ‘\u001b[01m\u001b[Klist_destroy\u001b[m\u001b[K’:\n",
            "\u001b[01m\u001b[Ksrc/buffer.h:134:3:\u001b[m\u001b[K \u001b[01;35m\u001b[Kwarning: \u001b[m\u001b[Kthis ‘\u001b[01m\u001b[Kif\u001b[m\u001b[K’ clause does not guard... [\u001b[01;35m\u001b[K-Wmisleading-indentation\u001b[m\u001b[K]\n",
            "   \u001b[01;35m\u001b[Kif\u001b[m\u001b[K ((*B)->buffer[i]) free((*B)->buffer[i]); (*B)->buffer[i] = NULL;\n",
            "   \u001b[01;35m\u001b[K^~\u001b[m\u001b[K\n",
            "\u001b[01m\u001b[Ksrc/buffer.h:134:47:\u001b[m\u001b[K \u001b[01;36m\u001b[Knote: \u001b[m\u001b[K...this statement, but the latter is misleadingly indented as if it were guarded by the ‘\u001b[01m\u001b[Kif\u001b[m\u001b[K’\n",
            "   if ((*B)->buffer[i]) free((*B)->buffer[i]); \u001b[01;36m\u001b[K(\u001b[m\u001b[K*B)->buffer[i] = NULL;\n",
            "                                               \u001b[01;36m\u001b[K^\u001b[m\u001b[K\n",
            "x86_64-linux-gnu-gcc -pthread -shared -Wl,-O1 -Wl,-Bsymbolic-functions -Wl,-Bsymbolic-functions -Wl,-z,relro -Wl,-Bsymbolic-functions -Wl,-z,relro -g -fdebug-prefix-map=/build/python3.7-Y7dWVB/python3.7-3.7.12=. -fstack-protector-strong -Wformat -Werror=format-security -Wdate-time -D_FORTIFY_SOURCE=2 build/temp.linux-x86_64-3.7/region.o build/temp.linux-x86_64-3.7/src/region.o -o /content/SiamMask/utils/pysot/utils/region.cpython-37m-x86_64-linux-gnu.so\n",
            "\u001b[K     |████████████████████████████████| 1.9 MB 5.1 MB/s \n",
            "\u001b[?25h"
          ]
        }
      ]
    },
    {
      "cell_type": "code",
      "metadata": {
        "id": "zivZNVcTVyJv"
      },
      "source": [
        "siammask.train().to(device)"
      ],
      "execution_count": null,
      "outputs": []
    },
    {
      "cell_type": "code",
      "metadata": {
        "id": "wwA9EZUYV9VZ"
      },
      "source": [
        "siam"
      ],
      "execution_count": null,
      "outputs": []
    },
    {
      "cell_type": "markdown",
      "metadata": {
        "id": "ibzztWRQF3-f"
      },
      "source": [
        "## Download pretrained weights and initialize SiamMask "
      ]
    },
    {
      "cell_type": "code",
      "metadata": {
        "id": "FbmT4eNY8ST6",
        "colab": {
          "base_uri": "https://localhost:8080/"
        },
        "outputId": "b3a151fa-de9f-414a-91d9-f9c82ecb3b0a"
      },
      "source": [
        "exp_path = join(project_name, 'experiments/siammask_sharp')\n",
        "pretrained_path1 = join(exp_path, 'SiamMask_DAVIS.pth')\n",
        "pretrained_path2 = join(exp_path, 'SiamMask_VOT.pth')\n",
        "\n",
        "# download pretrained weights\n",
        "if not exists(pretrained_path1):\n",
        "  !cd {exp_path} && wget http://www.robots.ox.ac.uk/~qwang/SiamMask_DAVIS.pth\n",
        "if not exists(pretrained_path2):\n",
        "  !cd {exp_path} && wget http://www.robots.ox.ac.uk/~qwang/SiamMask_VOT.pth\n",
        "    \n",
        "# init SiamMask\n",
        "device = torch.device('cuda' if torch.cuda.is_available() else 'cpu')\n",
        "cfg = load_config(SimpleNamespace(config=join(exp_path, 'config_davis.json')))\n",
        "siammask = Custom(anchors=cfg['anchors'])\n",
        "siammask = load_pretrain(siammask, pretrained_path1)\n",
        "siammask = siammask.eval().to(device)"
      ],
      "execution_count": null,
      "outputs": [
        {
          "output_type": "stream",
          "name": "stdout",
          "text": [
            "--2021-11-19 17:42:16--  http://www.robots.ox.ac.uk/~qwang/SiamMask_DAVIS.pth\n",
            "Resolving www.robots.ox.ac.uk (www.robots.ox.ac.uk)... 129.67.94.2\n",
            "Connecting to www.robots.ox.ac.uk (www.robots.ox.ac.uk)|129.67.94.2|:80... connected.\n",
            "HTTP request sent, awaiting response... 301 Moved Permanently\n",
            "Location: https://www.robots.ox.ac.uk/~qwang/SiamMask_DAVIS.pth [following]\n",
            "--2021-11-19 17:42:17--  https://www.robots.ox.ac.uk/~qwang/SiamMask_DAVIS.pth\n",
            "Connecting to www.robots.ox.ac.uk (www.robots.ox.ac.uk)|129.67.94.2|:443... connected.\n",
            "HTTP request sent, awaiting response... 200 OK\n",
            "Length: 105878246 (101M)\n",
            "Saving to: ‘SiamMask_DAVIS.pth’\n",
            "\n",
            "SiamMask_DAVIS.pth  100%[===================>] 100.97M  27.7MB/s    in 4.0s    \n",
            "\n",
            "2021-11-19 17:42:21 (25.3 MB/s) - ‘SiamMask_DAVIS.pth’ saved [105878246/105878246]\n",
            "\n",
            "--2021-11-19 17:42:21--  http://www.robots.ox.ac.uk/~qwang/SiamMask_VOT.pth\n",
            "Resolving www.robots.ox.ac.uk (www.robots.ox.ac.uk)... 129.67.94.2\n",
            "Connecting to www.robots.ox.ac.uk (www.robots.ox.ac.uk)|129.67.94.2|:80... connected.\n",
            "HTTP request sent, awaiting response... 301 Moved Permanently\n",
            "Location: https://www.robots.ox.ac.uk/~qwang/SiamMask_VOT.pth [following]\n",
            "--2021-11-19 17:42:22--  https://www.robots.ox.ac.uk/~qwang/SiamMask_VOT.pth\n",
            "Connecting to www.robots.ox.ac.uk (www.robots.ox.ac.uk)|129.67.94.2|:443... connected.\n",
            "HTTP request sent, awaiting response... 200 OK\n",
            "Length: 101533952 (97M)\n",
            "Saving to: ‘SiamMask_VOT.pth’\n",
            "\n",
            "SiamMask_VOT.pth    100%[===================>]  96.83M  26.8MB/s    in 3.8s    \n",
            "\n",
            "2021-11-19 17:42:26 (25.5 MB/s) - ‘SiamMask_VOT.pth’ saved [101533952/101533952]\n",
            "\n"
          ]
        },
        {
          "output_type": "stream",
          "name": "stderr",
          "text": [
            "[2021-11-19 17:42:26,681-rk0-features.py# 66] Current training 0 layers:\n",
            "\t\n",
            "[2021-11-19 17:42:26,683-rk0-features.py# 66] Current training 1 layers:\n",
            "\t\n",
            "[2021-11-19 17:42:26,748-rk0-load_helper.py# 31] load pretrained model from SiamMask/experiments/siammask_sharp/SiamMask_DAVIS.pth\n",
            "[2021-11-19 17:42:36,448-rk0-load_helper.py# 25] remove prefix 'module.'\n",
            "[2021-11-19 17:42:36,452-rk0-load_helper.py# 18] used keys:356\n"
          ]
        }
      ]
    },
    {
      "cell_type": "markdown",
      "metadata": {
        "id": "kKSfRPeAZJ8N"
      },
      "source": [
        "# train"
      ]
    },
    {
      "cell_type": "code",
      "metadata": {
        "id": "1XFBk4zCZIzo"
      },
      "source": [
        "siammask = siammask.train().to(device)"
      ],
      "execution_count": null,
      "outputs": []
    },
    {
      "cell_type": "code",
      "metadata": {
        "id": "SxBpXHPNZcPX"
      },
      "source": [
        "from tools import train_siammask"
      ],
      "execution_count": null,
      "outputs": []
    },
    {
      "cell_type": "code",
      "metadata": {
        "id": "_0MeqbOhaFRm"
      },
      "source": [
        "train_siammask()"
      ],
      "execution_count": null,
      "outputs": []
    },
    {
      "cell_type": "markdown",
      "metadata": {
        "id": "Bv3eU8yFZMWS"
      },
      "source": [
        "# Predict"
      ]
    },
    {
      "cell_type": "code",
      "metadata": {
        "id": "G9pi9T2t_3fR"
      },
      "source": [
        "f = 0\n",
        "video_capture = cv2.VideoCapture()\n",
        "if video_capture.open('/content/train/Movie_1.mkv'):\n",
        "  width, height = int(video_capture.get(cv2.CAP_PROP_FRAME_WIDTH)), int(video_capture.get(cv2.CAP_PROP_FRAME_HEIGHT))\n",
        "  fps = video_capture.get(cv2.CAP_PROP_FPS)\n",
        "  \n",
        "  !rm -f output.mp4 output.avi\n",
        "  # can't write out mp4, so try to write into an AVI file\n",
        "  video_writer = cv2.VideoWriter(\"output.avi\", cv2.VideoWriter_fourcc(*'MJPG'), fps, (width, height))\n",
        "  \n",
        "  while video_capture.isOpened():\n",
        "    ret, frame = video_capture.read()\n",
        "    if not ret:\n",
        "      break\n",
        "\n",
        "    if f == 0:\n",
        "      # detect a person on the first frame with Mask R-CNN\n",
        "      maskrcnn = torchvision.models.detection.maskrcnn_resnet50_fpn(pretrained=True)\n",
        "      maskrcnn = maskrcnn.eval()\n",
        "      output = maskrcnn([torchvision.transforms.functional.to_tensor((frame[...,::-1] / 255).astype(np.float32))])[0]\n",
        "\n",
        "      target_pos, target_sz = None, None\n",
        "      for box, label, score in zip(output['boxes'], output['labels'], output['scores']):\n",
        "        # search for a person with atleast 70% probability\n",
        "        if score > 0.7 and label == 1:\n",
        "          box = box.numpy()\n",
        "          x, y = int(box[0]), int(box[1])\n",
        "          w, h = int(box[2]) - x, int(box[3]) - y\n",
        "          target_pos = np.array([x + w / 2, y + h / 2])\n",
        "          target_sz = np.array([w, h])\n",
        "          break\n",
        "      assert target_pos is not None, \"no person found on the first frame!\"\n",
        "      print(\"person found:\", target_pos, target_sz)\n",
        "      \n",
        "      # init tracker\n",
        "      state = siamese_init(frame, target_pos, target_sz, siammask, cfg['hp'], device=device)\n",
        "    else:\n",
        "      # track\n",
        "      state = siamese_track(state, frame, mask_enable=True, refine_enable=True, device=device)\n",
        "      location = state['ploygon'].flatten()\n",
        "      mask = state['mask'] > state['p'].seg_thr\n",
        "      \n",
        "      frame[:, :, 2] = (mask > 0) * 255 + (mask == 0) * frame[:, :, 2]\n",
        "      cv2.polylines(frame, [np.int0(location).reshape((-1, 1, 2))], True, (0, 255, 0), 3)\n",
        "      \n",
        "      video_writer.write(frame)\n",
        "  \n",
        "    f += 1\n",
        "    # only on first 100 frames\n",
        "    if f > 100:\n",
        "      break\n",
        "      \n",
        "  video_capture.release()\n",
        "  video_writer.release()\n",
        "  \n",
        "  # convert AVI to MP4\n",
        "  !ffmpeg -y -loglevel info -i output.avi output.mp4\n",
        "else:\n",
        "  print(\"can't open the given input video file!\")"
      ],
      "execution_count": null,
      "outputs": []
    },
    {
      "cell_type": "markdown",
      "metadata": {
        "id": "KbqZEYmlGfQT"
      },
      "source": [
        "Finally, visualize the result:"
      ]
    },
    {
      "cell_type": "code",
      "metadata": {
        "id": "ZPIkVY3uBqB4"
      },
      "source": [
        "def show_local_mp4_video(file_name, width=640, height=480):\n",
        "  import io\n",
        "  import base64\n",
        "  from IPython.display import HTML\n",
        "  video_encoded = base64.b64encode(io.open(file_name, 'rb').read())\n",
        "  return HTML(data='''<video width=\"{0}\" height=\"{1}\" alt=\"test\" controls>\n",
        "                        <source src=\"data:video/mp4;base64,{2}\" type=\"video/mp4\" />\n",
        "                      </video>'''.format(width, height, video_encoded.decode('ascii')))\n",
        "\n",
        "show_local_mp4_video('output.mp4', width=960, height=720)"
      ],
      "execution_count": null,
      "outputs": []
    },
    {
      "cell_type": "code",
      "metadata": {
        "colab": {
          "base_uri": "https://localhost:8080/"
        },
        "id": "jzGveeoN-gU9",
        "outputId": "6f4359e5-1a4b-48cc-cc33-bf6e15666c47"
      },
      "source": [
        "! git clone https://github.com/burnpiro/farm-animal-tracking.git"
      ],
      "execution_count": null,
      "outputs": [
        {
          "output_type": "stream",
          "name": "stdout",
          "text": [
            "Cloning into 'farm-animal-tracking'...\n",
            "remote: Enumerating objects: 715, done.\u001b[K\n",
            "remote: Counting objects: 100% (94/94), done.\u001b[K\n",
            "remote: Compressing objects: 100% (71/71), done.\u001b[K\n",
            "remote: Total 715 (delta 42), reused 50 (delta 21), pack-reused 621\u001b[K\n",
            "Receiving objects: 100% (715/715), 29.04 MiB | 21.77 MiB/s, done.\n",
            "Resolving deltas: 100% (412/412), done.\n"
          ]
        }
      ]
    },
    {
      "cell_type": "code",
      "metadata": {
        "colab": {
          "base_uri": "https://localhost:8080/"
        },
        "id": "dxU7tLHYG9Tj",
        "outputId": "83a5e663-f3a0-4cf9-ba7d-303fbc897a59"
      },
      "source": [
        "! git clone https://github.com/tensorflow/models/tree/archive/research/object_detection.git"
      ],
      "execution_count": null,
      "outputs": [
        {
          "output_type": "stream",
          "name": "stdout",
          "text": [
            "Cloning into 'object_detection'...\n",
            "fatal: repository 'https://github.com/tensorflow/models/tree/archive/research/object_detection/' not found\n"
          ]
        }
      ]
    },
    {
      "cell_type": "code",
      "metadata": {
        "colab": {
          "base_uri": "https://localhost:8080/"
        },
        "id": "duVxEnbzCVfi",
        "outputId": "13ad3f7f-a1ac-402d-c01c-a64dcfdfe1b4"
      },
      "source": [
        "!cd /content/farm-animal-tracking && ls"
      ],
      "execution_count": null,
      "outputs": [
        {
          "output_type": "stream",
          "name": "stdout",
          "text": [
            "assets\t\t\t       helpers\t\t   show_tracking.py\n",
            "calculate_interval_score.py    LICENSE\t\t   test_evaluation.py\n",
            "crop_images\t\t       model\t\t   test.py\n",
            "data\t\t\t       output\t\t   test_siamese.py\n",
            "deepsort_tracker\t       Readme.md\t   test_video.py\n",
            "eda\t\t\t       requirements.txt    train_classificator.py\n",
            "experiments\t\t       run_detection.py    train_siamese.py\n",
            "generate_siamese_emb_space.py  show_prediction.py\n"
          ]
        }
      ]
    },
    {
      "cell_type": "code",
      "metadata": {
        "colab": {
          "base_uri": "https://localhost:8080/"
        },
        "id": "jtvf1Sl6CIR5",
        "outputId": "702233b5-44f7-4111-d12f-8ea75957bf10"
      },
      "source": [
        "!ls "
      ],
      "execution_count": null,
      "outputs": [
        {
          "output_type": "stream",
          "name": "stdout",
          "text": [
            "adc.json  farm-animal-tracking\tsample_data  train\n"
          ]
        }
      ]
    },
    {
      "cell_type": "code",
      "metadata": {
        "id": "5noYrohV_z5n"
      },
      "source": [
        "!cd /content/farm-animal-tracking && pip install -r requirements.txt"
      ],
      "execution_count": null,
      "outputs": []
    },
    {
      "cell_type": "code",
      "metadata": {
        "colab": {
          "base_uri": "https://localhost:8080/"
        },
        "id": "Z2DJ8ozL_6h-",
        "outputId": "32b23c2f-5a5c-481f-e2cc-abfb69895892"
      },
      "source": [
        "! python show_prediction.py"
      ],
      "execution_count": null,
      "outputs": [
        {
          "output_type": "stream",
          "name": "stdout",
          "text": [
            "python3: can't open file 'show_prediction.py': [Errno 2] No such file or directory\n"
          ]
        }
      ]
    },
    {
      "cell_type": "code",
      "metadata": {
        "colab": {
          "base_uri": "https://localhost:8080/"
        },
        "id": "Fg0kShA6AiZs",
        "outputId": "02a6c963-0545-49dc-f936-e656c564048a"
      },
      "source": [
        "!cd /content/farm-animal-tracking && python show_tracking.py --video /content/train/Movie_10.mkv"
      ],
      "execution_count": null,
      "outputs": [
        {
          "output_type": "stream",
          "name": "stdout",
          "text": [
            "Traceback (most recent call last):\n",
            "  File \"show_tracking.py\", line 12, in <module>\n",
            "    from object_detection.builders import model_builder\n",
            "ModuleNotFoundError: No module named 'object_detection'\n"
          ]
        }
      ]
    },
    {
      "cell_type": "code",
      "metadata": {
        "id": "VwazRQk4Azwl"
      },
      "source": [
        "!"
      ],
      "execution_count": null,
      "outputs": []
    },
    {
      "cell_type": "code",
      "metadata": {
        "id": "DObfmSt0BF3U"
      },
      "source": [
        "%%capture\n",
        "!pip install PyDrive\n",
        "from pydrive.auth import GoogleAuth\n",
        "from pydrive.drive import GoogleDrive\n",
        "from google.colab import auth\n",
        "from oauth2client.client import GoogleCredentials"
      ],
      "execution_count": null,
      "outputs": []
    },
    {
      "cell_type": "code",
      "metadata": {
        "id": "NksP428JBF3V"
      },
      "source": [
        "auth.authenticate_user()\n",
        "gauth = GoogleAuth()\n",
        "gauth.credentials = GoogleCredentials.get_application_default()\n",
        "drive = GoogleDrive(gauth)"
      ],
      "execution_count": null,
      "outputs": []
    },
    {
      "cell_type": "code",
      "metadata": {
        "id": "z6NJ-lz2BF3W"
      },
      "source": [
        "search_id = \"1OejSwght_F4tKbaLjgmB1srBnIJDNuU-\"\n",
        "search = drive.CreateFile({'id': search_id})\n",
        "search.GetContentFile('train.zip')"
      ],
      "execution_count": null,
      "outputs": []
    },
    {
      "cell_type": "code",
      "metadata": {
        "colab": {
          "base_uri": "https://localhost:8080/"
        },
        "id": "Ho4AyJI-BF3X",
        "outputId": "e04e1566-11bf-496b-b342-82d959252f6c"
      },
      "source": [
        "!unzip ./train.zip\n",
        "!rm -r ./train.zip"
      ],
      "execution_count": null,
      "outputs": [
        {
          "output_type": "stream",
          "name": "stdout",
          "text": [
            "Archive:  ./train.zip\n",
            "   creating: train/\n",
            "  inflating: train/Movie_5.mkv       \n",
            "  inflating: train/Movie_7.mkv       \n",
            "  inflating: train/Movie_6.mkv       \n",
            "  inflating: train/Movie_10.mkv      \n",
            "  inflating: train/Movie_1.mkv       \n",
            "  inflating: train/Movie_3.mkv       \n",
            "  inflating: train/Movie_2.mkv       \n",
            "  inflating: train/Movie_4.mkv       \n",
            "  inflating: train/Movie_8.mkv       \n",
            "  inflating: train/Movie_9.mkv       \n"
          ]
        }
      ]
    }
  ]
}